import heapq
import networkx as nx
import matplotlib.pyplot as plt

graph = {
    'Kr Pura': [('Halsuru', 5), ('Kr Market', 10)],
    'Halsuru': [('Kr Pura', 5), ('VV Pura', 3)],
    'Kr Market': [('Kr Pura', 10), ('Majestic', 7)],
    'VV Pura': [('Halsuru', 3), ('Majestic', 4)],
    'Majestic': [('Kr Market', 7), ('VV Pura', 4)]
}

graph_lower = {key.lower(): [(neighbor.lower(), weight) for neighbor, weight in edges] for key, edges in graph.items()}

def dijkstra(graph, start, end):
    queue = []
    heapq.heappush(queue, (0, start))

    distances = {node: float('infinity') for node in graph}
    distances[start] = 0

    previous_nodes = {node: None for node in graph}

    while queue:
        current_distance, current_node = heapq.heappop(queue)
        if current_node == end:
            break

        for neighbor, weight in graph[current_node]:
            distance = current_distance + weight

            if distance < distances[neighbor]:
                distances[neighbor] = distance
                previous_nodes[neighbor] = current_node
                heapq.heappush(queue, (distance, neighbor))

    path = []
    while end is not None:
        path.append(end)
        end = previous_nodes[end]
    path.reverse()

    return path, distances[path[-1]] if path else float('infinity')

def visualize_graph(graph):
    G = nx.Graph()
    for node, edges in graph.items():
        for neighbor, weight in edges:
            G.add_edge(node, neighbor, weight=weight)

    pos = nx.spring_layout(G)
    nx.draw(G, pos, with_labels=True, node_size=2000, node_color='lightblue')
    labels = nx.get_edge_attributes(G, 'weight')
    nx.draw_networkx_edge_labels(G, pos, edge_labels=labels)
    plt.show()

start_node = input("Enter the starting node(KR Pura, Halsuru, KR Market, VV Pura, Majestic):").strip().lower()
end_node = input("Enter the target node(KR Pura, Halsuru, KR Market, VV Pura, Majestic): ").strip().lower()

if start_node not in graph_lower or end_node not in graph_lower:
    print("Invalid node name(s). Please check the node names and try again.")
else:
    if start_node == end_node:
        print("The start and end locations are the same. Please enter different locations.")
    else:
        path, distance = dijkstra(graph_lower, start_node, end_node)

        path_original_case = [next(key for key in graph if key.lower() == node) for node in path]

        if path:
            print(f"The shortest path from {path_original_case[0]} to {path_original_case[-1]} is: {' -> '.join(path_original_case)} with a distance of {distance}")
        else:
            print("No path found.")

        visualize_graph(graph)
